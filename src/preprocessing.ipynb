{
 "cells": [
  {
   "cell_type": "code",
   "execution_count": null,
   "metadata": {},
   "outputs": [],
   "source": [
    "%reload_ext autoreload\n",
    "%autoreload 2\n",
    "\n",
    "from preprocessing_merge import *\n",
    "from preprocessing_train_test import preprocess_train_test"
   ]
  },
  {
   "cell_type": "code",
   "execution_count": null,
   "metadata": {},
   "outputs": [],
   "source": [
    "# Import data\n",
    "train_df = pd.read_csv(os.path.join(DATA_DIRECTORY, \"train.csv\"))\n",
    "test_df = pd.read_csv(os.path.join(DATA_DIRECTORY, \"test.csv\"))\n",
    "\n",
    "commerical_df = pd.read_csv(os.path.join(DATA_DIRECTORY, \"auxiliary-data/sg-commerical-centres.csv\"))\n",
    "market_df = pd.read_csv(os.path.join(DATA_DIRECTORY, \"auxiliary-data/sg-gov-markets-hawker-centres.csv\"))\n",
    "\n",
    "population_df = pd.read_csv(os.path.join(DATA_DIRECTORY, \"auxiliary-data/sg-population-demographics.csv\"))\n",
    "\n",
    "primary_School_df =  pd.read_csv(os.path.join(DATA_DIRECTORY, \"auxiliary-data/sg-primary-schools.csv\"))\n",
    "secondary_School_df =  pd.read_csv(os.path.join(DATA_DIRECTORY, \"auxiliary-data/sg-secondary-schools.csv\"))\n",
    "\n",
    "mall_df = pd.read_csv(os.path.join(DATA_DIRECTORY, \"auxiliary-data/sg-shopping-malls.csv\"))\n",
    "train_station_df = pd.read_csv(os.path.join(DATA_DIRECTORY, \"auxiliary-data/sg-train-stations.csv\"))"
   ]
  },
  {
   "cell_type": "code",
   "execution_count": null,
   "metadata": {},
   "outputs": [],
   "source": [
    "print(train_df.shape)"
   ]
  },
  {
   "cell_type": "code",
   "execution_count": null,
   "metadata": {},
   "outputs": [],
   "source": [
    "# preprocess\n",
    "train_processed, test_processed = preprocess_train_test(train_df, test_df)\n",
    "\n",
    "train_processed = merge_auxiliary_data(train_processed, commerical_df, market_df, population_df, primary_School_df, secondary_School_df, mall_df, train_station_df)\n",
    "test_processed = merge_auxiliary_data(test_processed, commerical_df, market_df, population_df, primary_School_df, secondary_School_df, mall_df, train_station_df)\n",
    "\n",
    "print(train_processed.shape)\n",
    "print(test_processed.shape)"
   ]
  },
  {
   "cell_type": "code",
   "execution_count": null,
   "metadata": {},
   "outputs": [],
   "source": [
    "train_gdf, test_gdf = preprocess_train_test(train_df, test_df)\n",
    "# test_gdf = preprocess_train_and_test(test_df)\n",
    "train_gdf.shape"
   ]
  },
  {
   "cell_type": "code",
   "execution_count": null,
   "metadata": {},
   "outputs": [],
   "source": [
    "train_gdf.head()"
   ]
  },
  {
   "cell_type": "code",
   "execution_count": null,
   "metadata": {},
   "outputs": [],
   "source": [
    "train_gdf_1 = merge_trainST_and_population(train_gdf, train_station_df, population_df)\n",
    "train_gdf_1.shape"
   ]
  },
  {
   "cell_type": "code",
   "execution_count": null,
   "metadata": {},
   "outputs": [],
   "source": [
    "train_gdf_2 = merge_commerical_and_market(train_gdf_1, commerical_df, market_df)\n",
    "train_gdf_2.shape"
   ]
  },
  {
   "cell_type": "code",
   "execution_count": null,
   "metadata": {},
   "outputs": [],
   "source": [
    "train_gdf_3 = merge_school_and_mall(train_gdf_2, primary_School_df, secondary_School_df, mall_df)\n",
    "train_gdf_3.shape"
   ]
  },
  {
   "cell_type": "code",
   "execution_count": null,
   "metadata": {},
   "outputs": [],
   "source": [
    "train_gdf.head()"
   ]
  },
  {
   "cell_type": "code",
   "execution_count": null,
   "metadata": {},
   "outputs": [],
   "source": [
    "train_gdf_1.head()"
   ]
  },
  {
   "cell_type": "code",
   "execution_count": null,
   "metadata": {},
   "outputs": [],
   "source": [
    "train_gdf_2.head()"
   ]
  },
  {
   "cell_type": "code",
   "execution_count": null,
   "metadata": {},
   "outputs": [],
   "source": [
    "train_gdf_3.head()"
   ]
  },
  {
   "cell_type": "code",
   "execution_count": null,
   "metadata": {},
   "outputs": [],
   "source": [
    "train_gdf_3.columns"
   ]
  }
 ],
 "metadata": {
  "kernelspec": {
   "display_name": "base",
   "language": "python",
   "name": "python3"
  },
  "language_info": {
   "codemirror_mode": {
    "name": "ipython",
    "version": 3
   },
   "file_extension": ".py",
   "mimetype": "text/x-python",
   "name": "python",
   "nbconvert_exporter": "python",
   "pygments_lexer": "ipython3",
   "version": "3.9.16"
  },
  "orig_nbformat": 4
 },
 "nbformat": 4,
 "nbformat_minor": 2
}
