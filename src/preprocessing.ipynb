{
 "cells": [
  {
   "cell_type": "code",
   "execution_count": null,
   "metadata": {},
   "outputs": [],
   "source": [
    "%reload_ext autoreload\n",
    "%autoreload 2\n",
    "\n",
    "from preprocessing_merge import *\n",
    "from preprocessing_train_test import *\n",
    "pd.set_option('display.max_columns', 100)  # 设置显示100列\n",
    "pd.set_option('display.max_rows', 100)   # 设置显示100行"
   ]
  },
  {
   "cell_type": "code",
   "execution_count": null,
   "metadata": {},
   "outputs": [],
   "source": [
    "%%time\n",
    "# Import data\n",
    "train_df_raw = pd.read_csv(os.path.join(DATA_DIRECTORY, \"train.csv\"))\n",
    "test_df_raw = pd.read_csv(os.path.join(DATA_DIRECTORY, \"test.csv\"))\n",
    "\n",
    "commerical_df = pd.read_csv(os.path.join(DATA_DIRECTORY, \"auxiliary-data/sg-commerical-centres.csv\"))\n",
    "market_df = pd.read_csv(os.path.join(DATA_DIRECTORY, \"auxiliary-data/sg-gov-markets-hawker-centres.csv\"))\n",
    "\n",
    "population_df = pd.read_csv(os.path.join(DATA_DIRECTORY, \"auxiliary-data/sg-population-demographics.csv\"))\n",
    "\n",
    "primary_School_df =  pd.read_csv(os.path.join(DATA_DIRECTORY, \"auxiliary-data/sg-primary-schools.csv\"))\n",
    "secondary_School_df =  pd.read_csv(os.path.join(DATA_DIRECTORY, \"auxiliary-data/sg-secondary-schools.csv\"))\n",
    "\n",
    "mall_df = pd.read_csv(os.path.join(DATA_DIRECTORY, \"auxiliary-data/sg-shopping-malls.csv\"))\n",
    "train_station_df = pd.read_csv(os.path.join(DATA_DIRECTORY, \"auxiliary-data/sg-train-stations.csv\"))"
   ]
  },
  {
   "cell_type": "code",
   "execution_count": null,
   "metadata": {},
   "outputs": [],
   "source": [
    "print(\"raw dataset shape\",train_df_raw.shape)"
   ]
  },
  {
   "cell_type": "code",
   "execution_count": null,
   "metadata": {},
   "outputs": [],
   "source": [
    "# preprocess train, test dataset\n",
    "train_df, test_df = preprocess_train_test(train_df_raw, test_df_raw)"
   ]
  },
  {
   "cell_type": "code",
   "execution_count": null,
   "metadata": {},
   "outputs": [],
   "source": [
    "print(\"after_preprocessing dataset shape\", train_df.shape)"
   ]
  },
  {
   "cell_type": "code",
   "execution_count": null,
   "metadata": {},
   "outputs": [],
   "source": [
    "%%time\n",
    "file_path_train = \"../data/backup/merge_auxiliary_data_train.csv\"\n",
    "file_path_test = \"../data/backup/merge_auxiliary_data_test.csv\"\n",
    "# if it is first time running, run the preprocess, otherwise load saved merged file\n",
    "if os.path.exists(file_path_train):\n",
    "    train_gdf = pd.read_csv(file_path_train)\n",
    "else:\n",
    "    train_gdf = merge_auxiliary_data(train_df, commerical_df, market_df, population_df, primary_School_df, secondary_School_df, mall_df, train_station_df)\n",
    "    train_gdf.to_csv(file_path_train)\n",
    "\n",
    "if os.path.exists(file_path_test):\n",
    "    test_gdf = pd.read_csv(file_path_test)\n",
    "else:\n",
    "    test_gdf = merge_auxiliary_data(test_df, commerical_df, market_df, population_df, primary_School_df, secondary_School_df, mall_df, train_station_df)\n",
    "    test_gdf.to_csv(file_path_train)\n",
    "\n",
    "print(\"train dataset shape: \", train_gdf.shape)\n",
    "print(\"test dataset shape: \",test_gdf.shape)"
   ]
  },
  {
   "cell_type": "code",
   "execution_count": null,
   "metadata": {},
   "outputs": [],
   "source": [
    "\n",
    "train_gdf_sample = merge_auxiliary_data(train_df.iloc[0:100], commerical_df, market_df, population_df, primary_School_df, secondary_School_df, mall_df, train_station_df)\n",
    "train_gdf_sample.shape  # we have 83 columns in total !!"
   ]
  },
  {
   "cell_type": "code",
   "execution_count": null,
   "metadata": {},
   "outputs": [],
   "source": [
    "train_gdf_sample.head()"
   ]
  },
  {
   "cell_type": "code",
   "execution_count": null,
   "metadata": {},
   "outputs": [],
   "source": [
    "# conduct correlation analysis\n",
    "train_gdf.describe().T"
   ]
  },
  {
   "cell_type": "code",
   "execution_count": null,
   "metadata": {},
   "outputs": [],
   "source": [
    "visualize(dataset= train_gdf)"
   ]
  },
  {
   "cell_type": "code",
   "execution_count": null,
   "metadata": {},
   "outputs": [],
   "source": [
    "dataset = filterDataset(train_gdf)\n",
    "calculateTopChiSqure(dataset)"
   ]
  },
  {
   "cell_type": "code",
   "execution_count": null,
   "metadata": {},
   "outputs": [],
   "source": [
    "score = calculateTopCorrelation(dataset)\n",
    "score.head(25)"
   ]
  },
  {
   "cell_type": "code",
   "execution_count": null,
   "metadata": {},
   "outputs": [],
   "source": [
    "df = calculateAnova(dataset)\n",
    "df"
   ]
  },
  {
   "cell_type": "code",
   "execution_count": null,
   "metadata": {},
   "outputs": [],
   "source": [
    "dataset.head()"
   ]
  },
  {
   "cell_type": "code",
   "execution_count": null,
   "metadata": {},
   "outputs": [],
   "source": [
    "importantCols = findImportantColumns(dataset, 0.3)\n",
    "importantCols"
   ]
  },
  {
   "cell_type": "code",
   "execution_count": null,
   "metadata": {},
   "outputs": [],
   "source": [
    "newDataset = dataset[importantCols]\n",
    "newDataset = newDataset.reset_index(drop=True)\n",
    "newDataset.to_csv(\"../data/backup/merge_auxiliary_data_new.csv\")"
   ]
  },
  {
   "cell_type": "code",
   "execution_count": null,
   "metadata": {},
   "outputs": [],
   "source": []
  }
 ],
 "metadata": {
  "kernelspec": {
   "display_name": "base",
   "language": "python",
   "name": "python3"
  },
  "language_info": {
   "codemirror_mode": {
    "name": "ipython",
    "version": 3
   },
   "file_extension": ".py",
   "mimetype": "text/x-python",
   "name": "python",
   "nbconvert_exporter": "python",
   "pygments_lexer": "ipython3",
   "version": "3.7.16"
  }
 },
 "nbformat": 4,
 "nbformat_minor": 2
}
