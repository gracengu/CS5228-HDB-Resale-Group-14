{
 "cells": [
  {
   "cell_type": "code",
   "execution_count": null,
   "metadata": {},
   "outputs": [],
   "source": [
    "%reload_ext autoreload\n",
    "%autoreload 2\n",
    "\n",
    "from sklearn.model_selection import KFold\n",
    "from sklearn.ensemble import RandomForestRegressor\n",
    "from sklearn.metrics import mean_squared_error, mean_absolute_error\n",
    "from preprocessing_train_test import *\n",
    "pd.set_option('display.max_columns', 100)  # 设置显示100列\n",
    "pd.set_option('display.max_rows', 100)   # 设置显示100行"
   ]
  },
  {
   "cell_type": "code",
   "execution_count": null,
   "metadata": {},
   "outputs": [],
   "source": [
    "file_path_train = \"../data/backup/merge_auxiliary_data_train.csv\"\n",
    "file_path_test = \"../data/backup/merge_auxiliary_data_test.csv\"\n",
    "\n",
    "train_gdf = pd.read_csv(file_path_train)\n",
    "test_gdf = pd.read_csv(file_path_test)\n",
    "\n",
    "print(\"train dataset shape: \", train_gdf.shape)\n",
    "print(\"test dataset shape: \",test_gdf.shape)"
   ]
  },
  {
   "cell_type": "code",
   "execution_count": null,
   "metadata": {},
   "outputs": [],
   "source": [
    "# print(train_gdf.groupby(['storey_range'])['resale_price'].mean().index)\n",
    "# train_gdf[train_gdf['storey_range']=='31 to 33'].index.size"
   ]
  },
  {
   "cell_type": "code",
   "execution_count": null,
   "metadata": {},
   "outputs": [],
   "source": [
    "# train_gdf[\"street_name\"] = train_gdf[\"street_name\"].str.lower()\n",
    "# train_gdf.groupby(['street_name']).count().sort_values(by='month', ascending=True).head(20)"
   ]
  },
  {
   "cell_type": "code",
   "execution_count": null,
   "metadata": {},
   "outputs": [],
   "source": [
    "'''grid search with preprocessing'''\n",
    "max_depths = [10, 15, 18, 20]\n",
    "max_features = [0.4, 0.6, 0.8, 1.0]\n",
    "min_samples_splits = [2, 0.00001]\n",
    "min_samples_leafs = [1, 0.00001]\n",
    "\n",
    "scores = {}\n",
    "for max_depth in max_depths:\n",
    "    for max_feature in max_features:\n",
    "        for min_samples_split in min_samples_splits:\n",
    "            for min_samples_leaf in min_samples_leafs:\n",
    "                print('start training with max_depth: {}, max_feature: {}, min_samples_split: {}, min_samples_leaf: {}'.format(max_depth, max_feature, min_samples_split, min_samples_leaf))\n",
    "                mae_test, mae_valid, mse_test, mse_valid = [], [], [], []\n",
    "                split = KFold(n_splits=5, shuffle=True, random_state=2958).split(train_gdf)\n",
    "                for idx, (train_idx, test_idx) in enumerate(split):\n",
    "                    print('fold {}'.format(idx + 1))\n",
    "                    train_df, test_df = preprocess_train_test(train_gdf.iloc[list(train_idx)], train_gdf.iloc[list(test_idx)])\n",
    "\n",
    "                    x_train, y_train = train_df.drop(columns=[\"resale_price\"], errors='ignore'), train_df[\"resale_price\"]\n",
    "                    x_valid, y_valid = test_df.drop(columns=[\"resale_price\"], errors='ignore'), test_df[\"resale_price\"]\n",
    "\n",
    "                    regressor = RandomForestRegressor(n_estimators=10, max_depth=max_depth, max_features=max_feature, min_samples_split=min_samples_split, min_samples_leaf=min_samples_leaf, n_jobs=3).fit(x_train, y_train)\n",
    "                    y_train_predict = regressor.predict(x_train)\n",
    "                    y_valid_predict = regressor.predict(x_valid)\n",
    "\n",
    "                    mae_test.append(mean_absolute_error(y_train, y_train_predict))\n",
    "                    mae_valid.append(mean_absolute_error(y_valid, y_valid_predict))\n",
    "                    mse_test.append(mean_squared_error(y_train, y_train_predict))\n",
    "                    mse_valid.append(mean_squared_error(y_valid, y_valid_predict))\n",
    "\n",
    "                print(mae_test, mae_valid, mse_test, mse_valid)\n",
    "                scores[(max_depth, max_feature, min_samples_split, min_samples_leaf)] = (mae_test, mae_valid, mse_test, mse_valid)"
   ]
  },
  {
   "cell_type": "code",
   "execution_count": null,
   "metadata": {},
   "outputs": [],
   "source": [
    "min_mae_key, min_mae = None, 100000\n",
    "min_mse_key, min_mse = None, 10000000000000\n",
    "for key, (_, mae_valid, _, mse_valid) in scores.items():\n",
    "    if np.mean(mae_valid) < min_mae:\n",
    "        min_mae_key = key\n",
    "        min_mae = np.mean(mae_valid)\n",
    "    if np.mean(mse_valid) < min_mse:\n",
    "        min_mse_key = key\n",
    "        min_mse = np.mean(mse_valid)\n",
    "print(min_mae_key, min_mae)\n",
    "print(min_mse_key, min_mse)"
   ]
  },
  {
   "cell_type": "code",
   "execution_count": null,
   "metadata": {},
   "outputs": [],
   "source": [
    "'''individual k-fold'''\n",
    "mae_test, mae_valid, mse_test, mse_valid = [], [], [], []\n",
    "split = KFold(n_splits=5, shuffle=True).split(train_gdf)\n",
    "for idx, (train_idx, test_idx) in enumerate(split):\n",
    "    print('fold {}'.format(idx + 1))\n",
    "    train_df, test_df = preprocess_train_test(train_gdf.iloc[list(train_idx)], train_gdf.iloc[list(test_idx)])\n",
    "\n",
    "    x_train, y_train = train_df.drop(columns=[\"resale_price\"], errors='ignore'), train_df[\"resale_price\"]\n",
    "    x_valid, y_valid = test_df.drop(columns=[\"resale_price\"], errors='ignore'), test_df[\"resale_price\"]\n",
    "\n",
    "    regressor = RandomForestRegressor(n_estimators=10, max_depth=20, max_features=0.6, min_samples_split=0.00001, min_samples_leaf=0.00001, n_jobs=3).fit(x_train, y_train)\n",
    "    y_train_predict = regressor.predict(x_train)\n",
    "    y_valid_predict = regressor.predict(x_valid)\n",
    "\n",
    "    mae_test.append(mean_absolute_error(y_train, y_train_predict))\n",
    "    mae_valid.append(mean_absolute_error(y_valid, y_valid_predict))\n",
    "    mse_test.append(mean_squared_error(y_train, y_train_predict))\n",
    "    mse_valid.append(mean_squared_error(y_valid, y_valid_predict))\n",
    "\n",
    "print(mae_test, mae_valid, mse_test, mse_valid)"
   ]
  },
  {
   "cell_type": "code",
   "execution_count": null,
   "metadata": {},
   "outputs": [],
   "source": [
    "'''Run best random forest hyperparam on full dataset'''\n",
    "test_gdf.drop(columns=[\"opening_year\"], inplace=True, errors='ignore')\n",
    "train_df, test_df = preprocess_train_test(train_gdf, test_gdf)\n",
    "\n",
    "x_train, y_train = train_df.drop(columns=[\"resale_price\"], errors='ignore'), train_df[\"resale_price\"]\n",
    "# x_valid, y_valid = test_df.drop(columns=drop_columns, errors='ignore'), test_df[\"resale_price\"]\n",
    "\n",
    "regressor = RandomForestRegressor(n_estimators=10, max_depth=20, max_features=0.6, min_samples_split=0.00001, min_samples_leaf=0.00001, n_jobs=3).fit(x_train, y_train)\n",
    "y_train_predict = regressor.predict(x_train)\n",
    "# y_valid_predict = regressor.predict(x_valid)\n",
    "\n",
    "print(mean_absolute_error(y_train, y_train_predict))\n",
    "# mae_valid.append(mean_absolute_error(y_valid, y_valid_predict))\n",
    "print(mean_squared_error(y_train, y_train_predict))\n",
    "# mse_valid.append(mean_squared_error(y_valid, y_valid_predict))"
   ]
  }
 ],
 "metadata": {
  "kernelspec": {
   "display_name": "assignment1",
   "language": "python",
   "name": "python3"
  },
  "language_info": {
   "codemirror_mode": {
    "name": "ipython",
    "version": 3
   },
   "file_extension": ".py",
   "mimetype": "text/x-python",
   "name": "python",
   "nbconvert_exporter": "python",
   "pygments_lexer": "ipython3",
   "version": "3.9.16"
  }
 },
 "nbformat": 4,
 "nbformat_minor": 2
}
