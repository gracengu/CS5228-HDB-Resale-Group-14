{
 "cells": [
  {
   "cell_type": "code",
   "execution_count": 2,
   "metadata": {},
   "outputs": [
    {
     "name": "stderr",
     "output_type": "stream",
     "text": [
      "/Users/hudongyue/opt/anaconda3/envs/envname/lib/python3.7/site-packages/geopandas/_compat.py:115: UserWarning: The Shapely GEOS version (3.11.1-CAPI-1.17.1) is incompatible with the GEOS version PyGEOS was compiled with (3.10.4-CAPI-1.16.2). Conversions between both will be slow.\n",
      "  shapely_geos_version, geos_capi_version_string\n"
     ]
    }
   ],
   "source": [
    "%reload_ext autoreload\n",
    "%autoreload 2\n",
    "\n",
    "from sklearn.model_selection import KFold\n",
    "import xgboost as xgb\n",
    "from lightgbm import LGBMRegressor\n",
    "from sklearn.metrics import mean_squared_error, mean_absolute_error\n",
    "from preprocessing_train_test import *\n",
    "import matplotlib.pyplot as plt\n",
    "\n",
    "\n",
    "from scipy.stats import skew \n",
    "from scipy.special import boxcox1p\n",
    "from scipy.stats import boxcox_normmax\n",
    "\n",
    "pd.set_option('display.max_columns', 100)  # 设置显示100列\n",
    "pd.set_option('display.max_rows', 100)   # 设置显示100行"
   ]
  },
  {
   "cell_type": "code",
   "execution_count": 3,
   "metadata": {},
   "outputs": [
    {
     "name": "stdout",
     "output_type": "stream",
     "text": [
      "train dataset shape:  (431732, 55)\n",
      "test dataset shape:  (107934, 54)\n"
     ]
    }
   ],
   "source": [
    "file_path_train = \"../data/backup/merge_auxiliary_data_train.csv\"\n",
    "file_path_test = \"../data/backup/merge_auxiliary_data_test.csv\"\n",
    "\n",
    "train_gdf = pd.read_csv(file_path_train)\n",
    "test_gdf = pd.read_csv(file_path_test)\n",
    "\n",
    "print(\"train dataset shape: \", train_gdf.shape)\n",
    "print(\"test dataset shape: \",test_gdf.shape)"
   ]
  },
  {
   "attachments": {},
   "cell_type": "markdown",
   "metadata": {},
   "source": [
    "## XGBRegressor"
   ]
  },
  {
   "cell_type": "code",
   "execution_count": 46,
   "metadata": {},
   "outputs": [
    {
     "name": "stdout",
     "output_type": "stream",
     "text": [
      "start training with max_depth: 6, min_child_weight: 1.3, reg_alpha: 1.6, reg_lambda: 1.55\n",
      "fold 1\n",
      "fold 2\n",
      "fold 3\n",
      "fold 4\n",
      "fold 5\n",
      "[9266.453587621168, 9287.203001335938, 9282.786987583408, 9308.06973242891, 9289.382392380516] [11721.26806127095, 11803.310206882186, 11792.703757158697, 11779.721233817287, 11766.766135597987] [157818613.32877317, 158714033.60133395, 158330645.71937108, 159237465.06544283, 158469388.71588218] [278139624.66029316, 279817605.14267087, 280596078.13053757, 281832190.6555247, 282603805.1240578]\n"
     ]
    }
   ],
   "source": [
    "max_depths = [6, 7, 8, 9]\n",
    "min_child_weights = [1.2, 1.3, 1.4]\n",
    "reg_alphas = [1.5, 1.6, 1.7] \n",
    "reg_lambdas = [1.5, 1.55, 1.6]\n",
    "\n",
    "scores_xgb = {}\n",
    "for max_depth in max_depths:\n",
    "    for min_child_weight in min_child_weights:\n",
    "        for reg_alpha in reg_alphas:\n",
    "            for reg_lambda in reg_lambdas:\n",
    "                print('start training with max_depth: {}, min_child_weight: {}, reg_alpha: {}, reg_lambda: {}'.format(max_depth, min_child_weight, reg_alpha, reg_lambda))\n",
    "                mae_test, mae_valid, mse_test, mse_valid = [], [], [], []\n",
    "                split = KFold(n_splits=5, shuffle=True).split(train_gdf)\n",
    "                for idx, (train_idx, validate_idx) in enumerate(split):\n",
    "                    print('fold {}'.format(idx + 1))\n",
    "                    train_df, validate_df = preprocess_train_test(train_gdf.iloc[list(train_idx)], train_gdf.iloc[list(validate_idx)])\n",
    "\n",
    "                    x_train, y_train = train_df.drop(columns=[\"resale_price\"], errors='ignore'), train_df[\"resale_price\"]\n",
    "                    x_valid, y_valid = validate_df.drop(columns=[\"resale_price\"], errors='ignore'), validate_df[\"resale_price\"]\n",
    "\n",
    "                    features = pd.concat([x_train, x_valid]).reset_index(drop=True)\n",
    "                    # overfit = []\n",
    "                    # for i in features.columns:\n",
    "                    #     counts = features[i].value_counts()\n",
    "                    #     zeros = counts.iloc[0]\n",
    "                    #     if zeros / len(features) * 100 > 99.94:\n",
    "                    #         overfit.append(i)\n",
    "\n",
    "                    # overfit = list(overfit)\n",
    "                    final_features = features.drop(columns=['primary_id', 'second_id', 'mall_id'], axis=1)\n",
    "                    # final_features = features.drop(columns=overfit, axis=1)\n",
    "                    # final_features = features.iloc[:, :60]\n",
    "\n",
    "                    x_train = final_features.iloc[:len(x_train), :]\n",
    "                    x_valid = final_features.iloc[len(x_train):, :]\n",
    "\n",
    "                    regressor = xgb.XGBRegressor(n_estimators=1400, max_depth=max_depth, min_child_weight=min_child_weight, reg_alpha=reg_alpha, reg_lambda=reg_lambda, subsample=1, n_jobs=3).fit(x_train, y_train)\n",
    "                    \n",
    "                    y_train_predict = regressor.predict(x_train)\n",
    "                    y_valid_predict = regressor.predict(x_valid)\n",
    "\n",
    "                    mae_test.append(mean_absolute_error(y_train, y_train_predict))\n",
    "                    mae_valid.append(mean_absolute_error(y_valid, y_valid_predict))\n",
    "                    mse_test.append(mean_squared_error(y_train, y_train_predict))\n",
    "                    mse_valid.append(mean_squared_error(y_valid, y_valid_predict))\n",
    "\n",
    "                print(mae_test, mae_valid, mse_test, mse_valid)\n",
    "                scores_xgb[(max_depth, min_child_weight, reg_alpha, reg_lambda)] = (mae_test, mae_valid, mse_test, mse_valid)"
   ]
  },
  {
   "cell_type": "code",
   "execution_count": 47,
   "metadata": {},
   "outputs": [
    {
     "name": "stdout",
     "output_type": "stream",
     "text": [
      "(6, 1.3, 1.6, 1.55) 11772.753878945423\n",
      "(6, 1.3, 1.6, 1.55) 280597860.7426168\n"
     ]
    }
   ],
   "source": [
    "min_mae_key, min_mae = None, 100000\n",
    "min_mse_key, min_mse = None, 10000000000000\n",
    "for key, (_, mae_valid, _, mse_valid) in scores_xgb.items():\n",
    "    if np.mean(mae_valid) < min_mae:\n",
    "        min_mae_key = key\n",
    "        min_mae = np.mean(mae_valid)\n",
    "    if np.mean(mse_valid) < min_mse:\n",
    "        min_mse_key = key\n",
    "        min_mse = np.mean(mse_valid)\n",
    "print(min_mae_key, min_mae)\n",
    "print(min_mse_key, min_mse)"
   ]
  },
  {
   "cell_type": "code",
   "execution_count": 4,
   "metadata": {},
   "outputs": [
    {
     "name": "stdout",
     "output_type": "stream",
     "text": [
      "9639.726686491827\n",
      "171895229.56513634\n",
      "[9.75090172e-03 6.71585323e-04 3.06046102e-04 3.54738149e-04\n",
      " 2.24722666e-04 2.82812805e-04 1.08468893e-03 0.00000000e+00\n",
      " 4.24408208e-04 1.77140301e-03 5.10657497e-04 4.83613665e-04\n",
      " 4.50426131e-04 3.02103814e-04 4.42658900e-04 2.54869403e-04\n",
      " 1.04971668e-02 4.37674066e-03 1.34551883e-04 2.13566513e-04\n",
      " 5.56109124e-04 5.43148315e-04 4.36262402e-04 1.13031972e-04\n",
      " 1.35968818e-04 3.30348877e-04 1.21017074e-04 3.94232746e-04\n",
      " 5.24134724e-04 2.95831094e-04 5.31630823e-04 2.35615741e-03\n",
      " 9.05857980e-03 9.72402049e-04 0.00000000e+00 1.14706147e-03\n",
      " 1.09914236e-03 2.39691674e-03 5.79060335e-03 8.14213068e-04\n",
      " 3.95066345e-05 5.69160700e-01 3.62536113e-04 0.00000000e+00\n",
      " 8.58929823e-04 0.00000000e+00 0.00000000e+00 4.60838492e-05\n",
      " 1.87924225e-02 4.81351570e-04 6.31073548e-04 7.65826041e-03\n",
      " 3.23826470e-03 2.46239454e-02 7.62404583e-04 3.69969057e-03\n",
      " 2.99839824e-01 0.00000000e+00 1.15057605e-03 8.49998090e-03]\n"
     ]
    },
    {
     "data": {
      "image/png": "[encoded data removed]",
      "text/plain": [
       "<Figure size 640x480 with 1 Axes>"
      ]
     },
     "metadata": {},
     "output_type": "display_data"
    }
   ],
   "source": [
    "'''Run best random forest hyperparam on full dataset'''\n",
    "test_gdf.drop(columns=[\"opening_year\"], inplace=True, errors='ignore')\n",
    "train_df, test_df = preprocess_train_test(train_gdf, test_gdf)\n",
    "\n",
    "x_train, y_train = train_df.drop(columns=[\"resale_price\"], errors='ignore'), train_df[\"resale_price\"]\n",
    "features = pd.concat([x_train, test_df])\n",
    "\n",
    "# features_tmp = features\n",
    "features_tmp = features.iloc[:, :60]\n",
    "# features_tmp = features.drop(columns=['distance_to_mrt_bins_price', 'mrt_lrt_links', 'population_bins_price', 'adult_children_ratio_bins_price', 'mrt_interchange_flag', 'mrt_interchange_count', 'mrt_type_price'], errors='ignore')\n",
    "# features_tmp = features.drop(columns=['distance_to_mrt_bins_price', 'mrt_lrt_links', 'population_bins_price'], errors='ignore')\n",
    "\n",
    "x_train = features_tmp.iloc[:len(train_df), :]\n",
    "x_test = features_tmp.iloc[len(train_df):, :]\n",
    "\n",
    "\n",
    "regressor = xgb.XGBRegressor(n_estimators=1300, max_depth=6, min_child_weight=1.3, reg_alpha=1.6, reg_lambda=1.5, n_jobs=3).fit(x_train, y_train)\n",
    "# regressor = xgb.XGBRegressor(colsample_bytree=0.4603, gamma=0.0468, \n",
    "#                              learning_rate=0.05, max_depth=6, \n",
    "#                              min_child_weight=1.5, n_estimators=500,\n",
    "#                              reg_alpha=1, reg_lambda=0.8571,\n",
    "#                              subsample=0.5213, nthread = -1).fit(x_train, y_train)\n",
    "\n",
    "y_train_predict = regressor.predict(x_train)\n",
    "# y_valid_predict = regressor.predict(x_valid)\n",
    "\n",
    "print(mean_absolute_error(y_train, y_train_predict))\n",
    "# mae_valid.append(mean_absolute_error(y_valid, y_valid_predict))\n",
    "print(mean_squared_error(y_train, y_train_predict))\n",
    "# mse_valid.append(mean_squared_error(y_valid, y_valid_predict))\n",
    "\n",
    "# compute feature importances using the Gini importance method\n",
    "importances = regressor.feature_importances_\n",
    "\n",
    "# get the indices of the top 10 most important features\n",
    "idx = importances.argsort()[-10:]\n",
    "print(importances)\n",
    "\n",
    "# plot the top 10 features\n",
    "plt.bar(range(len(idx)), importances[idx])\n",
    "plt.xticks(range(len(idx)), features_tmp.columns[idx], rotation=90)\n",
    "plt.xlabel('Features')\n",
    "plt.ylabel('Importance')\n",
    "plt.show()"
   ]
  },
  {
   "cell_type": "code",
   "execution_count": 24,
   "metadata": {},
   "outputs": [],
   "source": [
    "y_test_predict = regressor.predict(x_test)\n"
   ]
  },
  {
   "cell_type": "code",
   "execution_count": 26,
   "metadata": {},
   "outputs": [],
   "source": [
    "submission = pd.DataFrame({\n",
    "        \"Predicted\": y_test_predict\n",
    "    })\n",
    "\n",
    "submission.to_csv(\"PredictedPrice.csv\", index=True, index_label=\"Id\")\n"
   ]
  },
  {
   "attachments": {},
   "cell_type": "markdown",
   "metadata": {},
   "source": [
    "## Lightgbm"
   ]
  },
  {
   "cell_type": "code",
   "execution_count": null,
   "metadata": {},
   "outputs": [],
   "source": [
    "num_leaves = [4, 6]\n",
    "max_bins = [100, 200]\n",
    "bagging_fractions = [0.7, 0.8] \n",
    "bagging_freqs = [3, 10]\n",
    "\n",
    "# num_leaves = [4]\n",
    "# max_bins = [100, 400]\n",
    "# bagging_fractions = [0.75] \n",
    "# bagging_freqs = [3]\n",
    "\n",
    "scores_lightgbm = {}\n",
    "for num_leave in num_leaves:\n",
    "    for max_bin in max_bins:\n",
    "        for bagging_fraction in bagging_fractions:\n",
    "            for bagging_freq in bagging_freqs:\n",
    "                print('start training with num_leave: {}, max_bin: {}, bagging_fraction: {}, bagging_freq: {}'.format(num_leave, max_bin, max_bin, bagging_fraction))\n",
    "                mae_test, mae_valid, mse_test, mse_valid = [], [], [], []\n",
    "                split = KFold(n_splits=5, shuffle=True).split(train_gdf)\n",
    "                for idx, (train_idx, validate_idx) in enumerate(split):\n",
    "                    print('fold {}'.format(idx + 1))\n",
    "                    train_df, validate_df = preprocess_train_test(train_gdf.iloc[list(train_idx)], train_gdf.iloc[list(validate_idx)])\n",
    "\n",
    "                    x_train, y_train = train_df.drop(columns=[\"resale_price\"], errors='ignore'), train_df[\"resale_price\"]\n",
    "                    x_valid, y_valid = validate_df.drop(columns=[\"resale_price\"], errors='ignore'), validate_df[\"resale_price\"]\n",
    "\n",
    "                    features = pd.concat([x_train, x_valid]).reset_index(drop=True)\n",
    "                    overfit = []\n",
    "                    for i in features.columns:\n",
    "                        counts = features[i].value_counts()\n",
    "                        zeros = counts.iloc[0]\n",
    "                        if zeros / len(features) * 100 > 99.94:\n",
    "                            overfit.append(i)\n",
    "\n",
    "                    overfit = list(overfit)\n",
    "                    final_features = features.drop(overfit, axis=1)\n",
    "\n",
    "                    x_train = final_features.iloc[:len(x_train), :]\n",
    "                    x_valid = final_features.iloc[len(x_train):, :]\n",
    "\n",
    "                    regressor = LGBMRegressor(objective='regression', \n",
    "                                                n_estimators=300,\n",
    "                                                num_leaves=num_leave,\n",
    "                                                max_bin=max_bin, \n",
    "                                                learning_rate=0.01, \n",
    "                                                bagging_fraction=bagging_fraction,\n",
    "                                                bagging_freq=bagging_freq, \n",
    "                                                bagging_seed=7,\n",
    "                                                feature_fraction=0.2,\n",
    "                                                feature_fraction_seed=7).fit(x_train, y_train)                    \n",
    "                    y_train_predict = regressor.predict(x_train)\n",
    "                    y_valid_predict = regressor.predict(x_valid)\n",
    "\n",
    "                    mae_test.append(mean_absolute_error(y_train, y_train_predict))\n",
    "                    mae_valid.append(mean_absolute_error(y_valid, y_valid_predict))\n",
    "                    mse_test.append(mean_squared_error(y_train, y_train_predict))\n",
    "                    mse_valid.append(mean_squared_error(y_valid, y_valid_predict))\n",
    "\n",
    "                print(mae_test, mae_valid, mse_test, mse_valid)\n",
    "                scores_lightgbm[(max_depth, min_child_weight, reg_alpha, reg_lambda)] = (mae_test, mae_valid, mse_test, mse_valid)"
   ]
  },
  {
   "cell_type": "code",
   "execution_count": 15,
   "metadata": {},
   "outputs": [],
   "source": [
    "'''Run best random forest hyperparam on full dataset'''\n",
    "test_gdf.drop(columns=[\"opening_year\"], inplace=True, errors='ignore')\n",
    "train_df, test_df = preprocess_train_test(train_gdf, test_gdf)\n",
    "\n",
    "x_train, y_train = train_df.drop(columns=[\"resale_price\"], errors='ignore'), train_df[\"resale_price\"]\n",
    "\n",
    "# x_valid, y_valid = validate_df.drop(columns=drop_columns, errors='ignore'), validate_df[\"resale_price\"]\n",
    "\n",
    "regressor = LGBMRegressor(objective='regression', \n",
    "                            n_estimators=500,\n",
    "                            num_leaves=num_leave,\n",
    "                            max_bin=max_bin, \n",
    "                            learning_rate=0.01, \n",
    "                            bagging_fraction=bagging_fraction,\n",
    "                            bagging_freq=bagging_freq, \n",
    "                            bagging_seed=7,\n",
    "                            feature_fraction=0.2,\n",
    "                            feature_fraction_seed=7).fit(x_train, y_train)\n",
    "y_train_predict = regressor.predict(x_train)\n",
    "# y_valid_predict = regressor.predict(x_valid)\n",
    "\n",
    "print(mean_absolute_error(y_train, y_train_predict))\n",
    "# mae_valid.append(mean_absolute_error(y_valid, y_valid_predict))\n",
    "print(mean_squared_error(y_train, y_train_predict))\n",
    "# mse_valid.append(mean_squared_error(y_valid, y_valid_predict))"
   ]
  },
  {
   "cell_type": "code",
   "execution_count": 16,
   "metadata": {},
   "outputs": [
    {
     "name": "stdout",
     "output_type": "stream",
     "text": [
      "(6, 2, 1, 1) 45387.7810192872\n",
      "(6, 2, 1, 1) 3554484391.690834\n"
     ]
    }
   ],
   "source": [
    "min_mae_key, min_mae = None, 100000\n",
    "min_mse_key, min_mse = None, 10000000000000\n",
    "for key, (_, mae_valid, _, mse_valid) in scores_lightgbm.items():\n",
    "    if np.mean(mae_valid) < min_mae:\n",
    "        min_mae_key = key\n",
    "        min_mae = np.mean(mae_valid)\n",
    "    if np.mean(mse_valid) < min_mse:\n",
    "        min_mse_key = key\n",
    "        min_mse = np.mean(mse_valid)\n",
    "print(min_mae_key, min_mae)\n",
    "print(min_mse_key, min_mse)"
   ]
  }
 ],
 "metadata": {
  "kernelspec": {
   "display_name": "base",
   "language": "python",
   "name": "python3"
  },
  "language_info": {
   "codemirror_mode": {
    "name": "ipython",
    "version": 3
   },
   "file_extension": ".py",
   "mimetype": "text/x-python",
   "name": "python",
   "nbconvert_exporter": "python",
   "pygments_lexer": "ipython3",
   "version": "3.7.16"
  },
  "orig_nbformat": 4
 },
 "nbformat": 4,
 "nbformat_minor": 2
}
