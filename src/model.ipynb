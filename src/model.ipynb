{
 "cells": [
  {
   "cell_type": "code",
   "execution_count": null,
   "metadata": {},
   "outputs": [],
   "source": [
    "%reload_ext autoreload\n",
    "%autoreload 2\n",
    "\n",
    "from sklearn.model_selection import KFold\n",
    "from sklearn.ensemble import RandomForestRegressor\n",
    "from sklearn.metrics import mean_squared_error, mean_absolute_error\n",
    "from preprocessing_train_test import *\n",
    "pd.set_option('display.max_columns', 100)  # 设置显示100列\n",
    "pd.set_option('display.max_rows', 100)   # 设置显示100行\n",
    "\n",
    "import seaborn as sns\n",
    "import matplotlib.pyplot as plt\n",
    "import warnings\n",
    "warnings.filterwarnings(\"ignore\")\n",
    "\n",
    "from sklearn.model_selection import train_test_split, cross_val_score\n",
    "from sklearn.preprocessing import StandardScaler\n",
    "from sklearn.metrics import r2_score, mean_absolute_error, mean_squared_error\n",
    "\n",
    "from sklearn.linear_model import LinearRegression\n",
    "from sklearn.linear_model import Ridge\n",
    "from sklearn.linear_model import Lasso\n",
    "from sklearn.linear_model import ElasticNet\n",
    "from sklearn.ensemble import RandomForestRegressor\n",
    "from sklearn.svm import SVR\n",
    "from xgboost import XGBRegressor\n",
    "from sklearn.preprocessing import PolynomialFeatures"
   ]
  },
  {
   "cell_type": "code",
   "execution_count": null,
   "metadata": {},
   "outputs": [],
   "source": [
    "file_path_train = \"../data/backup/merge_auxiliary_data_train.csv\"\n",
    "file_path_test = \"../data/backup/merge_auxiliary_data_test.csv\"\n",
    "\n",
    "train_gdf = pd.read_csv(file_path_train)\n",
    "test_gdf = pd.read_csv(file_path_test)\n",
    "\n",
    "print(\"train dataset shape: \", train_gdf.shape)\n",
    "print(\"test dataset shape: \",test_gdf.shape)"
   ]
  },
  {
   "cell_type": "code",
   "execution_count": null,
   "metadata": {},
   "outputs": [],
   "source": [
    "# opening year has lots of nan values. why?\n",
    "train_gdf.drop(columns=[\"opening_year\"], inplace=True, errors='ignore')\n",
    "test_gdf.drop(columns=[\"opening_year\"], inplace=True, errors='ignore')\n",
    "drop_columns = [\n",
    "    \"resale_price\",\n",
    "    \"town\",\n",
    "    \"block\",\n",
    "    \"flat_type\",\n",
    "    \"street_name\",\n",
    "    \"storey_range\",\n",
    "    \"flat_model\",\n",
    "    \"eco_category\",\n",
    "    \"lease_commence_date\",\n",
    "    \"elevation\",\n",
    "    \"subzone\",\n",
    "    \"planning_area\",\n",
    "    \"region\",\n",
    "    \"mrt_name\",\n",
    "    \"mrt_type\",\n",
    "    \"codes\",\n",
    "    \"codes_name\",\n",
    "    \"type_commerical\",\n",
    "]\n"
   ]
  },
  {
   "cell_type": "code",
   "execution_count": null,
   "metadata": {},
   "outputs": [],
   "source": [
    "train_gdf.head()"
   ]
  },
  {
   "cell_type": "code",
   "execution_count": null,
   "metadata": {},
   "outputs": [],
   "source": [
    "mae_test, mae_valid, mse_test, mse_valid = [], [], [], []\n",
    "split = KFold(n_splits=5, shuffle=True).split(train_gdf)\n",
    "for idx, (train_idx, test_idx) in enumerate(split):\n",
    "    print('fold {}'.format(idx + 1))\n",
    "    train_df, test_df = preprocess_train_test(train_gdf.iloc[list(train_idx)], train_gdf.iloc[list(test_idx)])\n",
    "    x_train, y_train = train_df.drop(columns=drop_columns, errors='ignore'), train_df[\"resale_price\"]\n",
    "    x_valid, y_valid = test_df.drop(columns=drop_columns, errors='ignore'), test_df[\"resale_price\"]\n",
    "    break\n",
    "    \n",
    "    # regressor = LinearRegression()\n",
    "    # regressor.fit(x_train, y_train)\n",
    "    # predictions = regressor.predict(x_test)\n",
    "    # # regressor = RandomForestRegressor(n_estimators=10, max_depth=max_depth, max_features=max_feature, min_samples_split=min_samples_split, min_samples_leaf=min_samples_leaf, n_jobs=3).fit(x_train, y_train)\n",
    "    # y_train_predict = regressor.predict(x_train)\n",
    "    # y_valid_predict = regressor.predict(x_valid)\n",
    "\n",
    "    # mae_test.append(mean_absolute_error(y_train, y_train_predict))\n",
    "    # mae_valid.append(mean_absolute_error(y_valid, y_valid_predict))\n",
    "    # mse_test.append(mean_squared_error(y_train, y_train_predict))\n",
    "    # mse_valid.append(mean_squared_error(y_valid, y_valid_predict))\n",
    "    # break\n"
   ]
  },
  {
   "cell_type": "code",
   "execution_count": null,
   "metadata": {},
   "outputs": [],
   "source": [
    "x_train.head()"
   ]
  },
  {
   "cell_type": "code",
   "execution_count": null,
   "metadata": {},
   "outputs": [],
   "source": [
    "x_train, x_test, y_train, y_test = train_test_split(X, Y, test_size=0.2, random_state=42)"
   ]
  },
  {
   "cell_type": "code",
   "execution_count": null,
   "metadata": {},
   "outputs": [],
   "source": [
    "print(\"X_train shape\", x_train.shape)\n",
    "print(\"X_test shape\", x_test.shape)\n",
    "print(\"Y_train shape\", y_train.shape)\n",
    "print(\"Y_test shape\", y_test.shape)"
   ]
  },
  {
   "cell_type": "code",
   "execution_count": null,
   "metadata": {},
   "outputs": [],
   "source": [
    "def rmse_cv(model):\n",
    "    rmse = np.sqrt(-cross_val_score(model, X, Y, scoring=\"neg_mean_squared_error\", cv=5)).mean()\n",
    "    return rmse\n",
    "    \n",
    "\n",
    "def evaluation(y, predictions):\n",
    "    mae = mean_absolute_error(y, predictions)\n",
    "    mse = mean_squared_error(y, predictions)\n",
    "    rmse = np.sqrt(mean_squared_error(y, predictions))\n",
    "    r_squared = r2_score(y, predictions)\n",
    "    return mae, mse, rmse, r_squared"
   ]
  },
  {
   "attachments": {},
   "cell_type": "markdown",
   "metadata": {},
   "source": [
    "# Linear Regresssion"
   ]
  },
  {
   "cell_type": "code",
   "execution_count": null,
   "metadata": {},
   "outputs": [],
   "source": [
    "lin_reg = LinearRegression()\n",
    "lin_reg.fit(x_train, y_train)\n",
    "predictions = lin_reg.predict(x_test)\n",
    "\n",
    "mae, mse, rmse, r_squared = evaluation(y_test, predictions)\n",
    "print(\"MAE:\", mae)\n",
    "print(\"MSE:\", mse)\n",
    "print(\"RMSE:\", rmse)\n",
    "print(\"R2 Score:\", r_squared)\n",
    "print(\"-\"*30)\n",
    "rmse_cross_val = rmse_cv(lin_reg)\n",
    "print(\"RMSE Cross-Validation:\", rmse_cross_val)"
   ]
  },
  {
   "attachments": {},
   "cell_type": "markdown",
   "metadata": {},
   "source": [
    "# Support Vector Regression"
   ]
  },
  {
   "cell_type": "code",
   "execution_count": null,
   "metadata": {},
   "outputs": [],
   "source": [
    "svr = SVR(C=100000)\n",
    "svr.fit(x_train, y_train)\n",
    "predictions = svr.predict(x_test)\n",
    "\n",
    "mae, mse, rmse, r_squared = evaluation(y_test, predictions)\n",
    "print(\"MAE:\", mae)\n",
    "print(\"MSE:\", mse)\n",
    "print(\"RMSE:\", rmse)\n",
    "print(\"R2 Score:\", r_squared)\n",
    "print(\"-\"*30)\n",
    "rmse_cross_val = rmse_cv(svr)\n",
    "print(\"RMSE Cross-Validation:\", rmse_cross_val)"
   ]
  },
  {
   "cell_type": "code",
   "execution_count": null,
   "metadata": {},
   "outputs": [],
   "source": [
    "import pandas as pd\n",
    "from IPython.display import display, clear_output\n",
    "\n",
    "# Clear the output of the cell using clear_output()\n",
    "clear_output(wait=True)"
   ]
  },
  {
   "cell_type": "code",
   "execution_count": null,
   "metadata": {},
   "outputs": [],
   "source": []
  }
 ],
 "metadata": {
  "kernelspec": {
   "display_name": "cs5228_hdb",
   "language": "python",
   "name": "python3"
  },
  "language_info": {
   "codemirror_mode": {
    "name": "ipython",
    "version": 3
   },
   "file_extension": ".py",
   "mimetype": "text/x-python",
   "name": "python",
   "nbconvert_exporter": "python",
   "pygments_lexer": "ipython3",
   "version": "3.7.16"
  }
 },
 "nbformat": 4,
 "nbformat_minor": 2
}
